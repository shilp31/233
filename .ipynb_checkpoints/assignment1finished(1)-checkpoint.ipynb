{
 "cells": [
  {
   "cell_type": "markdown",
   "metadata": {
    "colab_type": "text",
    "id": "1UKOQcXNtJ8e"
   },
   "source": [
    "$\\qquad$ $\\qquad$$\\qquad$  **TDA 231 Machine Learning: Homework 1** <br />\n",
    "$\\qquad$ $\\qquad$$\\qquad$ **Goal: Start working with Jupyter notebooks, introduction to probability and regression models**<br />\n",
    "$\\qquad$ $\\qquad$$\\qquad$                   **Grader: Arman Rahbar** <br />\n",
    "$\\qquad$ $\\qquad$$\\qquad$                   **Submitted by: Niklas Baerveldt, 9604112079, nikbae@student.chalmers.se <br />\n",
    "Madhavi Ponnapu, 9503028228, ponnapu@student.chalmers.se <br />\n",
    "\n"
   ]
  },
  {
   "cell_type": "markdown",
   "metadata": {
    "colab_type": "text",
    "id": "PQ8gZxqWtJ8h"
   },
   "source": [
    "General guidelines:\n",
    "* All solutions to theoretical and pratical problems must be submitted in this ipynb notebook, and equations wherever required, should be formatted using LaTeX math-mode.\n",
    "* All discussion regarding practical problems, along with solutions and plots should be specified in this notebook. \n",
    "All plots/results should be visible such that the notebook do not have to be run. But the code in the notebook should reproduce the plots/results if we choose to do so.\n",
    "* Your name, personal number and email address should be specified above.\n",
    "* All tables and other additional information should be included in this notebook.\n",
    "* ** Before submitting, make sure that your code can run on another computer. That all plots can show on another computer including all your writing. It is good to check if your code can run here: https://colab.research.google.com **\n",
    "* ** Upload both the .ipynb and the generatable .html file (that can be exported through File > Download As > HTML) **"
   ]
  },
  {
   "cell_type": "markdown",
   "metadata": {
    "colab_type": "text",
    "id": "vrnQ98KgtJ8i"
   },
   "source": [
    "**Jupyter/IPython Notebook** is a collaborative Python web-based environment. This will be used in all our Homework Assignments. It is installed in the halls ES61-ES62, E-studio and MT9. You can also use google-colab: https://colab.research.google.com\n",
    "to run these notebooks without having to download, install, or do anything on your own computer other than a browser.\n",
    "Some useful resources:\n",
    "1. https://jupyter-notebook-beginner-guide.readthedocs.io/en/latest/ (Quick-start guide)\n",
    "2. https://www.kdnuggets.com/2016/04/top-10-ipython-nb-tutorials.html\n",
    "3. http://data-blog.udacity.com/posts/2016/10/latex-primer/ (latex-primer)\n",
    "4. http://jupyter-notebook.readthedocs.io/en/stable/examples/Notebook/Working%20With%20Markdown%20Cells.html (markdown)"
   ]
  },
  {
   "cell_type": "markdown",
   "metadata": {
    "colab_type": "text",
    "id": "fl1Lu21rtJ8k"
   },
   "source": [
    "# Theoretical problems\n",
    "\n",
    "## [Bayes Rule, 3 points]\n",
    "\n",
    "After your yearly checkup, the doctor has bad news and good news. The\n",
    "bad news is that you tested positive for a very serious cancer and\n",
    "that the test is 99.2% accurate i.e. the probability of testing\n",
    "positive given you have the disease is 0.992. The probability of\n",
    "testing negative if you don’t have the disease is the same (also 0.992). The good news is that it is a rare condition affecting only 1 in 1,000 people. What is the probability you actually have the disease? \n",
    "\n",
    "After doing all your calculations you realize that there was a misprint on the test, and the accuracy was actually only 92% (for both testing postive given that you have the disease and for testing negative given that you do not have the disease). How will this change your probability of having the disease?\n",
    "\n",
    "(Show all calculations and the final result.)\n"
   ]
  },
  {
   "cell_type": "markdown",
   "metadata": {},
   "source": [
    "## [Setting hyperparameters, 2 points]\n",
    "\n",
    "Suppose $\\theta$ is a random variable generated from a beta distribution as: $\\theta \\sim \\mbox{Beta}(a^2,b)$. Also assume that  the expectation of $\\theta$ is $m$: $E[\\theta] = m$\n",
    "and the variance of $\\theta$ is v: $\\mbox{var}(\\theta) = v$. Express $a$ and $b$ in term of (only) $m$ and $v$.\n",
    "For more information about the $\\mbox{Beta}$ distribution see https://en.wikipedia.org/wiki/Beta_distribution."
   ]
  },
  {
   "cell_type": "markdown",
   "metadata": {},
   "source": [
    "\n",
    "## [Correlation and Independence, 2 points]\n",
    "\n",
    "Let $X$ be a continuous random variable, uniformly distributed in $[-2, +2]$ and let $Y := X^4$. Clearly $Y$ is not independent of $X$ -- in fact it is uniquely determined by $X$. However, show that the covariance of $X$ and $Y$ is 0: $\\mbox{cov}(X, Y ) = 0$.\n",
    "Show and justify every step of the proof. Statements like \"it is obvious that, it is trivial ...\" will not be accepted."
   ]
  },
  {
   "cell_type": "markdown",
   "metadata": {},
   "source": [
    "## [Spherical Gaussian estimation, 4 points]\n",
    "\n",
    "Consider a dataset $X$ consisting of i.i.d. observations\n",
    "generated from a spherical Gaussian distribution $N(\\mu, \\sigma^2I)$, where $\\mu \\in \\mathbb{R}^p$, $I$ \n",
    "is the $p \\times p $ identity matrix, and $\\sigma^2$ is a scalar.\n",
    "\n",
    "Write the mathematical expression for the Maximum Likelihood Estimator (MLE) for $\\mu$ and $\\sigma$ in above setup.\n",
    "\n",
    "For more information about the spherical Gaussian distribution, see https://en.wikipedia.org/wiki/Multivariate_normal_distribution.\n",
    "For more information about the identity matrix see: https://en.wikipedia.org/wiki/Identity_matrix"
   ]
  },
  {
   "cell_type": "markdown",
   "metadata": {
    "colab_type": "text",
    "id": "lO0M1fgXMtMD"
   },
   "source": [
    "Write Answers  here. Double-click (or enter) to edit. Latex mathematical expressions can just be written by starting with \"$\" and ending with the same character.\n",
    "\n",
    "\n",
    "## Bayes Rules\n",
    "The probability of having the disease with a test accuracy of $99.2\\%$:<br />\n",
    "$Tp$: test is positive.<br />\n",
    "$Tn$: test is negative.<br />\n",
    "$D$: have the disease.<br />\n",
    "$Dn$: Do not have the disease.<br />\n",
    "\n",
    "Given: $P(Tp|D) = 0.992$<br />\n",
    "$P(Tn|Dn) = 0.992$<br />\n",
    "$P(Tp|Dn) = 0.008$<br />\n",
    "$P(D) = 0.001$<br />\n",
    "$P(Dn) = 0.999$<br />\n",
    "\n",
    "We need to calculate the probability that one has the disease given that the test was positive. That is $P(D|Tp)$.\n",
    "\n",
    "According to Bayes rule: $P(D|Tp) = \\frac{P(Tp|D)P(D)}{P(Tp)}$\n",
    "\n",
    "Tp is needed in order to solve the calculation.Tp is true either if one is diseased and gets a positive test or is not diseased and gets a positive test, that is:\n",
    "\n",
    "$p(Tp) = p(Tp|D)p(D) + p(Tp|Dn)p(Dn) =$ <br />\n",
    "$0.992 * 0.001 + 0.008 * 0.999 = 0.008912$\n",
    "\n",
    "at last, we get:\n",
    "\n",
    "$P(D|Tp) = \\frac{0.992*0.001}{0.008912}$ $\\approx$ 0.1113\n",
    "\n",
    "\n",
    "\n",
    "The probability of having the disease with a test accuracy of $92\\%$:<br />\n",
    "$Tp$: test is positive.<br />\n",
    "$Tn$: test is negative.<br />\n",
    "$D$: have the disease.<br />\n",
    "$Dn$: Do not have the disease.<br />\n",
    "\n",
    "Given: $P(Tp|D) = 0.92$<br />\n",
    "$P(Tn|Dn) = 0.92$<br />\n",
    "$P(Tp|Dn) = 0.08$<br />\n",
    "$P(D) = 0.001$<br />\n",
    "$P(Dn) = 0.999$<br />\n",
    "\n",
    "We need to calculate the probability that one has the disease given that the test was positive. That is $P(D|Tp)$.\n",
    "\n",
    "According to Bayes rule: $P(D|Tp) = \\frac{P(Tp|D)P(D)}{P(Tp)}$\n",
    "\n",
    "Tp is needed in order to solve the calculation.Tp is true either if one is diseased and gets a positive test or is not diseased and gets a positive test, that is:\n",
    "\n",
    "$p(Tp) = p(Tp|D)p(D) + p(Tp|Dn)p(Dn) =$ <br />\n",
    "$0.92 * 0.001 + 0.08 * 0.999 = 0.08012$\n",
    "\n",
    "at last, we get:\n",
    "\n",
    "$P(D|Tp) = \\frac{0.92*0.001}{0.08012}$ $\\approx$ 0.0115\n",
    "## Setting hyperparameters\n",
    "$E[\\theta] = \\mu = m$ <br />\n",
    "$var(\\theta) = v$ <br />\n",
    "$\\alpha = a^2$ <br />\n",
    "$\\beta = b$ <br />\n",
    "\n",
    "from the wikipedia page we get: <br />\n",
    "$\\alpha = \\mu * v_1$<br />\n",
    "$\\beta = (1-\\mu)*v_1$<br />\n",
    "where $v_1 = \\alpha + \\beta = a^2 + b$<br /> \n",
    "\n",
    "We also get the following equivalence, from which we can get an alternative expression for $v_1$:\n",
    "$var(\\theta) = \\frac{\\mu(1-\\mu)}{1+\\alpha +\\beta}$ <br />\n",
    "$=\\frac{m(1-m)}{1+v_1} \\Leftrightarrow $ <br />\n",
    "$=(1+v_1) = \\frac{m(1-m)}{v} \\Leftrightarrow $ <br />\n",
    "$= v_1 = \\frac{m(1-m)}{v} - 1$ <br />\n",
    "\n",
    "We can now express $\\alpha$ and $\\beta$ in terms of $m$ and $v$: <br />\n",
    "$\\alpha = \\mu * v_1 = \\frac{m^2(1-m)}{v}$ <br />\n",
    "$\\beta = (1-\\mu)*v_1 = \\frac{m(1-m)^2}{v}$ <br />\n",
    "\n",
    "And thus, the final answer is:<br />\n",
    "$a = \\sqrt{\\frac{m^2(1-m)}{v}}$\n",
    "$b = \\frac{m(1-m)^2}{v}$\n",
    "\n",
    "## Correlation\n",
    "$\\mbox{cov}(X, Y )$ = E[(X - E[X])(Y - E[Y])] =\n",
    "\n",
    "E[XY - XE[Y] - E[X]Y + E[X]E[Y]] =\n",
    "\n",
    "E[XY] - E[X]E[Y] - E[X]E[Y] + E[X]E[Y] =\n",
    "\n",
    "E[XY] - E[X]E[Y]\n",
    "\n",
    "$Y := X^4$ so\n",
    "\n",
    "E[XY] - E[X]E[Y] = E[$X^5$] - E[X]E[$X^4$]\n",
    "\n",
    "The properties for a continuous uniform distribution gives us:\n",
    "E[X] = $\\frac{1}{2}(b + a)$\n",
    "\n",
    "and\n",
    "\n",
    "E[$X^n$] = $\\frac{b^{n+1} - a^{n+1}}{(n+1)(b-a)}$ \n",
    "\n",
    "Thus\n",
    "\n",
    "E[$X^5$] - E[X]E[$X^4$] = \n",
    "\n",
    "$\\frac{b^6 - a^6}{6(b-a)}$ - $\\frac{1}{2}(b+a)$$\\frac{b^5 - a^5}{5(b - a)}$\n",
    "\n",
    "for b = 2, a = -2:\n",
    "\n",
    "E[$X^5$] - E[X]E[$X^4$] = \n",
    "\n",
    "$\\frac{2^6 - (-2)^6}{6(2-(-2))}$ - $\\frac{1}{2}(2+(-2))$$\\frac{2^5 - (-2)^5}{5(2 - (-2))}$ = \n",
    "\n",
    "$\\frac{0}{6(2-(-2))}$ - $\\frac{1}{2}(0)$$\\frac{2^5 - (-2)^5}{5(2 - (-2))}$ = 0\n",
    "\n",
    "Thus $\\mbox{cov}(X, Y ) = 0$.\n",
    "\n",
    "## Spherical Gaussian\n",
    "The log likelihood for the spherical gaussian distribution is \n",
    "\n",
    "$l(\\mu,\\sum)$ = $-\\frac{p^2}{2}log(2\\pi) - \\frac{p}{2}log|\\sum| - \\frac{1}{2}$$\\sum_{i=1}^{p}(\\textbf{x}^{(i)} - \\mu)^{\\textbf{T}}\\sum^{-1}(\\textbf{x}^{(i)} - \\mu)$\n",
    "\n",
    "with $\\sum$ = $\\sigma^2\\textbf{I}$ we get\n",
    "\n",
    "$l(\\mu,\\sigma^2)$ = $-\\frac{p^2}{2}log(2\\pi) - \\frac{p^2}{2}log\\sigma^2 - \\frac{1}{2\\sigma^2}$$\\sum_{i=1}^{p}(\\textbf{x}^{(i)} - \\mu)^{\\textbf{T}}(\\textbf{x}^{(i)} - \\mu)$\n",
    "\n",
    "derive with respect to $\\sigma^2$:\n",
    "\n",
    "$\\frac{\\partial l}{\\partial \\sigma^2} = -\\frac{p^2}{2}\\frac{1}{\\sigma^2} + \\frac{1}{2(\\sigma^2)^2}\\sum_{i=1}^{p}(\\textbf{x}^{(i)} - \\mu)^{\\textbf{T}}(\\textbf{x}^{(i)} - \\mu)$\n",
    "\n",
    "Set derivative to 0 to get:\n",
    "\n",
    "$\\bar{\\sigma}^2 = \\frac{1}{p^2}\\sum_{i=1}^{p}(\\textbf{x}^{(i)} - \\mu)^{\\textbf{T}}(\\textbf{x}^{(i)} - \\mu)$\n",
    "\n",
    "\n",
    "And for $\\bar{\\mu}$ we substitute \\sigma^2 in a spherical gaussian formula and get:\n",
    "\n",
    "$\\bar{\\mu} = -\\frac{p}{2}log2\\pi - \\frac{p^2}{2}log(\\bar{\\sigma}^2) - \\frac{1}{2}(p - 1)$\n",
    "\n"
   ]
  },
  {
   "cell_type": "markdown",
   "metadata": {},
   "source": [
    "# Practical problems"
   ]
  },
  {
   "cell_type": "markdown",
   "metadata": {},
   "source": [
    "# [Linear Regression with regularization 9pt]\n",
    "\n",
    "You are newly recruited as a Data Scientist at a leading consultancy company in Gothenburg. Your first task at the job is to help the Swedish Public Health Agency (folkhalsomyndigheten) for predicting the diabetes progression of patients. Assume that you are given a dataset D of $n$ patients with $D = \\{ (\\mathbf{x}_i, y_i)\\}_{i=1}^n$ where $\\mathbf{x}_i \\in \\mathbb{R}^p$ represents numerical features of each patients and $y_i \\in \\mathbb{R}$ represent the numerical diabetes progression.  One can also view the dataset D as a pair of matrices $(\\mathbf{X}, \\mathbf{y})$ with $\\mathbf{X} \\in \\mathbb{R}^{n \\times p}$ and $\\mathbf{y} \\in \\mathbb{R}^{n \\times 1}$.\n",
    "\n",
    "Fresh with the lectures in the machine learning course at Chalmers, you would like to use a linear model to quickly perform the task. In order words, you would like to find a vector $\\mathbf{w} \\in \\mathbb{R}^{p \\times 1}$  such that $\\mathbf{y} = \\mathbf{X} \\mathbf{w}$.  However,  you have just read one of the most popular machine learning book and it argues that standard linear regression (for finding $\\mathbf{w}$) can lead to various problems such as non-uniqueness of the solution,  overfitting, etc. As a result, you decided to add a penalty term called regularization to control the optimisation problem. More specifically, you want to solve for: $\\min_{\\mathbf{w}}  \\mathcal{L}(\\mathbf{w})$ where  $\\mathcal{L}(\\mathbf{w}) = \\left(\\sum_{i=1}^n (y_i - \\mathbf{w}^T\\mathbf{x}_i)^2 \\right) + \\left(\\alpha \\sum_{j=1}^p w_j^2 \\right) $ with $\\alpha \\in \\mathbb{R}$ a small coefficient that you will decide later on.\n",
    "\n",
    "Please note the slight changes in the notation. Recall that in the lectures we had a dataset $\\{ (\\mathbf{x}_n, t_n)\\}_{n=1}^N$ where $\\mathbf{x}_n \\in \\mathbb{R}^D$ and $t_n \\in \\mathbb{R}$. We also appended $1$ to the begining of $\\mathbf{x}_n$ so both $\\mathbf{x}_n$ and $\\mathbf{w}$ were in $\\mathbb{R}^{D+1}$. Thus, here $p$ is the same thing as $D+1$. Compare $w_1, w_2, \\dots, w_p$ with $w_0, w_1, \\dots, w_D$.\n",
    "\n"
   ]
  },
  {
   "cell_type": "markdown",
   "metadata": {},
   "source": [
    "1-  **1pt** Write down $\\mathcal{L}(\\mathbf{w})$ in matrix/vector forms using only $\\mathbf{X}$, $\\mathbf{y}$ and $\\mathbf{w}$ and the L2 norm. In other words, you are not allowed to use any components $y_i, \\mathbf{w}_j$ or $\\mathbf{x}_i$ ( For any vector $\\mathbf{z}$ use the following notation $|\\mathbf{z}|_2$ to mean the L2 norm of  $\\mathbf{z}$ See http://mathworld.wolfram.com/L2-Norm.html for more information about the L2 norm.)\n",
    "\n",
    "$\\mathcal{L}(\\mathbf{w})$ = $|(\\textbf{y} - \\textbf{X}\\textbf{w}|_2^2 + \\alpha|\\textbf{w}|_2^2$\n",
    "\n",
    "$|\\textbf{w}|_2 = \\sqrt{\\textbf{w}^T\\textbf{w}}$"
   ]
  },
  {
   "cell_type": "markdown",
   "metadata": {},
   "source": [
    "\n",
    "2- **1pt** Derive and write down in matrix/vector forms the gradient of $\\mathcal{L}(\\mathbf{w})$ with respect to $\\mathbf{w}$. Show all the derivations. (Hint: You can start by  computing the gradient of the full expression and then convert it to matrix/vector forms. You can also directly get the gradients from your answer in 1-)\n",
    "\n",
    "$\\frac{d\\mathcal{L}(\\mathbf{w})}{dw}$ = $\\frac{d(\\textbf{y} - \\textbf{X}\\textbf{w})^T(\\textbf{y} - \\textbf{X}\\textbf{w}) + \\alpha\\textbf{w}^T\\textbf{w}}{d\\textbf{w}}$ = $ -2\\textbf{X}^T(\\textbf{y} - \\textbf{X}\\textbf{w}) + 2\\alpha\\textbf{w}$ = $ 2\\textbf{X}^T\\textbf{X}\\textbf{w} - 2\\textbf{X}^T\\textbf{y} + 2\\alpha\\textbf{w}$"
   ]
  },
  {
   "cell_type": "markdown",
   "metadata": {},
   "source": [
    "3- **2pt** Derive and write down in matrix/vector forms the solution $\\mathbf{w}^*$ to the optimization problem $\\min_{\\mathbf{w}}  \\mathcal{L}(\\mathbf{w})$. Show all your derivations. (Hint: $\\mathcal{L}(\\mathbf{w})$ is convex in $\\mathbf{w}$)\n",
    "\n",
    "$ 2\\textbf{X}^T\\textbf{X}\\textbf{w}^* - 2\\textbf{X}^T\\textbf{y} + 2\\alpha\\textbf{w}^* = 0$ $\\Leftrightarrow$\n",
    "\n",
    "$ 2\\textbf{X}^T\\textbf{X}\\textbf{w}^* + 2\\alpha\\textbf{w}^* = 2\\textbf{X}^T\\textbf{y}$ $\\Leftrightarrow$\n",
    "\n",
    "$ (\\textbf{X}^T\\textbf{X} + \\alpha\\textbf{I}_D)\\textbf{w}^* = \\textbf{X}^T\\textbf{y}$ $\\Leftrightarrow$\n",
    "\n",
    "$ \\textbf{w}^* = (\\textbf{X}^T\\textbf{X} + \\alpha\\textbf{I}_D)^{-1}\\textbf{X}^T\\textbf{y}$\n"
   ]
  },
  {
   "cell_type": "markdown",
   "metadata": {},
   "source": [
    "4-  **2pt** Under which condition on the $\\alpha$ is the solution $\\mathbf{w}^*$ unique? Prove rigorously your statement. Make no assumptions on $\\mathbf{X}$. (Hint: If your solution $\\mathbf{w}^*$ requires to invert a matrix, then one necessary condition for uniquess is for the matrix to be invertible. And any positive definitive matrix https://en.wikipedia.org/wiki/Definiteness_of_a_matrix is invertible. You might also want to look at the properties of transposition https://en.wikipedia.org/wiki/Transpose)\n",
    "\n",
    "The solution is unique for $\\alpha$ > 0\n",
    "\n",
    "$\\textbf{Proof:}$\n",
    "If $\\textbf{X}$ has only real entries $\\textbf{X}^T\\textbf{X}$ is positive-semidefinite, that is: $\\textbf{x}^T(\\textbf{X}^T\\textbf{X})\\textbf{x} \\geq 0$ \n",
    "\n",
    "If $\\textbf{I}$ is positive definite and $\\alpha$ is strictly positive, then $\\alpha\\textbf{I}$ is positive definite, that is $\\textbf{x}^T(\\alpha\\textbf{I})\\textbf{x} > 0$\n",
    "\n",
    "The above means that: \n",
    "$\\textbf{x}^T(\\textbf{X}^T\\textbf{X})\\textbf{x} + \\textbf{x}^T(\\alpha\\textbf{I})\\textbf{x}$ > 0\n",
    "\n",
    "and\n",
    "\n",
    "$\\textbf{x}^T(\\textbf{X}^T\\textbf{X})\\textbf{x} + \\textbf{x}^T(\\alpha\\textbf{I})\\textbf{x}$ = $\\textbf{x}^T(\\textbf{X}^T\\textbf{X} + \\alpha\\textbf{I})\\textbf{x}$ > 0 means that $(\\textbf{X}^T\\textbf{X} + \\alpha\\textbf{I})$ is positive definite and therefore invertible as long as $\\alpha > 0$\n",
    "\n",
    "\n"
   ]
  },
  {
   "cell_type": "markdown",
   "metadata": {},
   "source": [
    "5- **2pt** Implement in Python a well commented function **fit_linear_with_regularization** that takes as input $\\mathbf{X}$, $\\mathbf{y}$ and $\\alpha$ and return $\\mathbf{w}^*$ as computed in question 3. You are not allowed to use any loops (for-loop, while-loop ...) to do the implementation. Instead use and abuse as much as possible numpy vectorization techniques. A skeleton of the function is shown in the code cell below.\n",
    "\n"
   ]
  },
  {
   "cell_type": "markdown",
   "metadata": {},
   "source": [
    "6- **3pt** Implement in Python a well commented function **predict** that takes as input a dataset $\\mathbf{X_{\\text{test}}}$ in the same dimensions as $\\mathbf{X}$ and return the predictions.   Write down the mean squared error (https://en.wikipedia.org/wiki/Mean_squared_error) of your predictions. Then on the same plot with legends, show:\n",
    "\n",
    " a) A scatter plot of the first feature of $\\mathbf{X_{\\text{test}}}$ (x-axis) and the diabetes progression $\\mathbf{y_{\\text{test}}}$ \n",
    " \n",
    " b) A plot of your prediction for $\\mathbf{X_{\\text{test}}}$\n",
    " \n",
    " The skeleton code in the cell below already implements most of data loading and you should only have to fill in the *TODO* part. Again here no loops are allowed (for-loop, while loop in the implementation of the plots and the **predict** )"
   ]
  },
  {
   "cell_type": "code",
   "execution_count": 87,
   "metadata": {},
   "outputs": [
    {
     "name": "stdout",
     "output_type": "stream",
     "text": [
      "Mean Squared error is  22162.418201196597\n"
     ]
    },
    {
     "data": {
      "image/png": "[encoded data removed]",
      "text/plain": [
       "<Figure size 432x288 with 1 Axes>"
      ]
     },
     "metadata": {
      "needs_background": "light"
     },
     "output_type": "display_data"
    }
   ],
   "source": [
    "# Make it possible to show plots in the notebooks.\n",
    "%matplotlib inline\n",
    "import numpy as np\n",
    "from sklearn import datasets\n",
    "import matplotlib\n",
    "import matplotlib.pyplot as plt\n",
    "\n",
    "\n",
    "\n",
    "def fit_linear_with_regularization(X, y, alpha):\n",
    "  Xt = np.transpose(X)\n",
    "  XtX = np.matmul(Xt,X)\n",
    "  XtXplusAlpha = np.add(XtX,alpha)\n",
    "  inverse = np.linalg.inv(XtXplusAlpha)\n",
    "  w = np.matmul(np.matmul(inverse,Xt),y)\n",
    "  return w\n",
    "\n",
    "def predict(X_test, w):\n",
    "  y_pred = np.matmul(X_test,w)\n",
    "  return y_pred\n",
    "\n",
    "\n",
    "def plot_prediction(X_test, y_test, y_pred):\n",
    "  \"\"\"TODO\"\"\"\n",
    "  # Scatter plot the first feature of X_test (x-axis) and y_test (y-axis)\n",
    "  plt.scatter(np.transpose(X_test)[0],y_test) # TODO change me\n",
    "  # Plot y_pred using the first feature of X_test as x-axis\n",
    "  plt.scatter(np.transpose(X_test)[0],y_pred)\n",
    "  # Compute the mean squared error\n",
    "  n = y_test.size\n",
    "  deltaY = y_test-y_pred\n",
    "  deltaYsquared = np.dot(np.transpose(deltaY),deltaY)\n",
    "\n",
    "  mean_squared_error = deltaYsquared/n\n",
    "  return mean_squared_error\n",
    "\n",
    "\n",
    "# Load the diabetes dataset\n",
    "X, y = datasets.load_diabetes(return_X_y=True)\n",
    "\n",
    "\n",
    "# Split the dataset into training and test set\n",
    "num_test_elements = 20\n",
    "\n",
    "X_train = X[:-num_test_elements]\n",
    "X_test = X[-num_test_elements:]\n",
    "\n",
    "y_train = y[:-num_test_elements]\n",
    "y_test = y[-num_test_elements:]\n",
    "\n",
    "\n",
    "# Set alpha\n",
    "alpha = 0.01\n",
    "\n",
    "# Train using linear regression with regularization and find optimal model\n",
    "w = fit_linear_with_regularization(X_train, y_train, alpha)\n",
    "\n",
    "\n",
    "# Make predictions using the testing set X_test\n",
    "y_pred = predict(X_test, w)\n",
    "\n",
    "\n",
    "\n",
    "# Plots and mean squared error\n",
    "error = plot_prediction(X_test, y_test, y_pred)\n",
    "\n",
    "\n",
    "\n",
    "print('Mean Squared error is ', error)\n",
    "\n",
    "\n",
    "# Show the plot\n",
    "plt.show();\n",
    "\n",
    "\n"
   ]
  },
  {
   "cell_type": "markdown",
   "metadata": {},
   "source": [
    "# Bonus question\n",
    "\n",
    "Answering this question, will not give you any additional points. Not answering this question will not prevent you from getting full points (if all other questions are answered correctly). However, if you answer this question, we will pick exactly one question where you didn't receive full points in this assignment and give you **at most** 4 more points there. In particular,  between the questions for which you have reasonably attempted a solution, we will pick the one where the difference between the full point and the point you received is the maximum.\n",
    "\n",
    "## Bayesian Linear Regression 4pt\n",
    "\n",
    "Proud of finishing the task using a linear model with regularization, you show your results to a representative of the Swedish Public Health Agency. You barely finish explaining your solution when the face of the representative turns red and you could distinctly hear: \"Bayesian is the only way: How come didn't you use any probabilities?\". \n",
    "\n",
    "You quickly head back to your desk and now assume a Gaussian prior on the solution $\\mathbf{w}$, that is $p(\\mathbf{w}) = \\mathcal{N}(\\mathbf{0}, \\lambda^{-1} \\mathbf{I})$ where $\\lambda \\in \\mathbb{R}$ is a constant real number, $I$ is the $p \\times p$ identity matrix and $\\mathcal{N}(\\mathbf{0}, \\lambda^{-1} \\mathbf{I})$ is used to mean the multivariate gaussian distribution with mean $\\mathbf{0} \\in \\mathbb{R}^p$ , a vector of zeros of dimension $p$ and covariance matrix $\\lambda^{-1} \\mathbf{I}$ . Then, you use the following likelihood:\n",
    "\n",
    "$p(\\mathbf{y} | \\mathbf{X}, \\mathbf{w}) = \\prod_{i=1}^n \\mathcal{N}(\\mathbf{w}^T \\mathbf{x}_i, \\gamma^{-1})$ where here $\\gamma \\in \\mathbb{R}$ is a constant real number and $\\mathcal{N}(\\mathbf{w}^T \\mathbf{x}_i, \\gamma^{-1})$ is the gaussian distribution with mean  $\\mathbf{w}^T \\mathbf{x}_i$ and variance $\\gamma^{-1}$.\n",
    "\n",
    "\n",
    "7- **2pt** Derive and express in vector/matrix form as a function of $\\mathbf{X}, \\mathbf{y}, \\mathbf{w}$ the log posterior $\\ln p(\\mathbf{w} | \\mathbf{y}, \\mathbf{X})$. Show all the derivations. You can ignore normalizing constants.\n",
    " \n",
    "\n",
    "\n",
    "8-  **2pt** Show that maximizing the posterior in 7- is  similar to minimizing the function $\\mathcal{L}(\\mathbf{w})$ seen in the previous section. Show your derivations. (Note: You should show this without computing the maximum of the posterior. Instead, you should express the log posterior in term of $\\mathcal{L}(\\mathbf{w})$, ignoring constants if necessary. Then find the $\\alpha$ of $\\mathcal{L}(\\mathbf{w})$ in term of $\\lambda$ and $\\gamma$)."
   ]
  },
  {
   "cell_type": "code",
   "execution_count": null,
   "metadata": {},
   "outputs": [],
   "source": []
  },
  {
   "cell_type": "code",
   "execution_count": null,
   "metadata": {},
   "outputs": [],
   "source": []
  },
  {
   "cell_type": "code",
   "execution_count": null,
   "metadata": {},
   "outputs": [],
   "source": []
  }
 ],
 "metadata": {
  "colab": {
   "name": "Hw1_2019.ipynb",
   "provenance": [
    {
     "file_id": "1Y5XjPfo2fv3nGBtIxbf0F_WFtssz1N_S",
     "timestamp": 1553254350644
    }
   ],
   "version": "0.3.2"
  },
  "kernelspec": {
   "display_name": "Python 3 (ipykernel)",
   "language": "python",
   "name": "python3"
  },
  "language_info": {
   "codemirror_mode": {
    "name": "ipython",
    "version": 3
   },
   "file_extension": ".py",
   "mimetype": "text/x-python",
   "name": "python",
   "nbconvert_exporter": "python",
   "pygments_lexer": "ipython3",
   "version": "3.11.5"
  }
 },
 "nbformat": 4,
 "nbformat_minor": 1
}
